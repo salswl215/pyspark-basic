{
 "cells": [
  {
   "cell_type": "code",
   "execution_count": 11,
   "id": "f79ec76a-6e68-45fe-ad62-8323f4c9d561",
   "metadata": {},
   "outputs": [
    {
     "name": "stdout",
     "output_type": "stream",
     "text": [
      "+----+----------+------+\n",
      "|  id|occupation|salary|\n",
      "+----+----------+------+\n",
      "|1000|  engineer|100000|\n",
      "|2000|      NULL|  NULL|\n",
      "|3000|      NULL| 50000|\n",
      "|4000|   teacher| 80000|\n",
      "|5000|    banker|120000|\n",
      "+----+----------+------+\n",
      "\n"
     ]
    }
   ],
   "source": [
    "from pyspark.sql import (\n",
    "    functions as f,\n",
    "    SparkSession,\n",
    "    types as t\n",
    ")\n",
    "\n",
    "spark = SparkSession.builder.appName(\"df_missing_data\").getOrCreate()\n",
    "df = spark.read.csv(\n",
    "    \"file:///home/jovyan/work/sample/null_data.csv\", header=True, inferSchema=True)\n",
    "df.show()"
   ]
  },
  {
   "cell_type": "code",
   "execution_count": 12,
   "id": "bb2c1aeb-7ece-429e-b5c4-afe97f253f34",
   "metadata": {},
   "outputs": [
    {
     "name": "stdout",
     "output_type": "stream",
     "text": [
      "root\n",
      " |-- id: integer (nullable = true)\n",
      " |-- occupation: string (nullable = true)\n",
      " |-- salary: integer (nullable = true)\n",
      "\n"
     ]
    }
   ],
   "source": [
    "# DataFrame.na: Returns a DataFrameNaFunctions for handling missing values.\n",
    "# DataFrame.dropna(how='any', thresh=None, subset=None)[source]: Returns a new DataFrame omitting rows with null values. DataFrame.dropna() and DataFrameNaFunctions.drop() are aliases of each other.\n",
    "#   how: 'any’ or ‘all’. If ‘any’, drop a row if it contains any nulls. If ‘all’, drop a row only if all its values are null.\n",
    "#   thresh: default None If specified, drop rows that have less than thresh non-null values. This overwrites the how parameter.\n",
    "#   subset: optional list of column names to consider.\n",
    "\n",
    "# df.na.drop(how=\"any\").show()\n",
    "# df.na.drop(thresh=2).show()\n",
    "# df.na.drop(subset=[\"salary\"]).show()\n",
    "\n",
    "df.printSchema()"
   ]
  },
  {
   "cell_type": "code",
   "execution_count": 13,
   "id": "4ff9cd16-634f-48e3-aa77-c7db8462735f",
   "metadata": {},
   "outputs": [
    {
     "name": "stdout",
     "output_type": "stream",
     "text": [
      "+----+----------+------+\n",
      "|  id|occupation|salary|\n",
      "+----+----------+------+\n",
      "|1000|  engineer|100000|\n",
      "|2000|        NA|  NULL|\n",
      "|3000|        NA| 50000|\n",
      "|4000|   teacher| 80000|\n",
      "|5000|    banker|120000|\n",
      "+----+----------+------+\n",
      "\n",
      "+----+----------+------+\n",
      "|  id|occupation|salary|\n",
      "+----+----------+------+\n",
      "|1000|  engineer|100000|\n",
      "|2000|      NULL| 87500|\n",
      "|3000|      NULL| 50000|\n",
      "|4000|   teacher| 80000|\n",
      "|5000|    banker|120000|\n",
      "+----+----------+------+\n",
      "\n"
     ]
    }
   ],
   "source": [
    "# # fill string\n",
    "# df.na.fill(\"engineer\").show()\n",
    "\n",
    "# # fill integer\n",
    "# df.na.fill(0).show()\n",
    "\n",
    "# # fill the subset\n",
    "df.na.fill(\"NA\", subset=[\"occupation\"]).show()\n",
    "\n",
    "# # fill the mean value\n",
    "mean_value = df.select(f.mean(df['salary'])).collect()\n",
    "\n",
    "# print(mean_value[0][0])\n",
    "\n",
    "df.na.fill(mean_value[0][0], subset=[\"salary\"]).show()"
   ]
  },
  {
   "cell_type": "code",
   "execution_count": 14,
   "id": "67c936ed-5ea3-43f1-b8cd-b93cf9a61739",
   "metadata": {},
   "outputs": [
    {
     "name": "stdout",
     "output_type": "stream",
     "text": [
      "+----------+\n",
      "|year(date)|\n",
      "+----------+\n",
      "|      2022|\n",
      "|      2021|\n",
      "|      2022|\n",
      "|      2022|\n",
      "|      2022|\n",
      "|      2022|\n",
      "|      2021|\n",
      "|      2022|\n",
      "|      2021|\n",
      "|      2021|\n",
      "|      2022|\n",
      "|      2022|\n",
      "|      2022|\n",
      "|      2022|\n",
      "|      2022|\n",
      "|      2022|\n",
      "|      2022|\n",
      "|      2022|\n",
      "|      2022|\n",
      "|      2022|\n",
      "+----------+\n",
      "only showing top 20 rows\n",
      "\n",
      "+-----------+\n",
      "|month(date)|\n",
      "+-----------+\n",
      "|          1|\n",
      "|         12|\n",
      "|          1|\n",
      "|          1|\n",
      "|          4|\n",
      "|         10|\n",
      "|         12|\n",
      "|          5|\n",
      "|         12|\n",
      "|         12|\n",
      "|          5|\n",
      "|          6|\n",
      "|          4|\n",
      "|          8|\n",
      "|          1|\n",
      "|          9|\n",
      "|          5|\n",
      "|          9|\n",
      "|          7|\n",
      "|          7|\n",
      "+-----------+\n",
      "only showing top 20 rows\n",
      "\n"
     ]
    }
   ],
   "source": [
    "# Date parsing\n",
    "spark = SparkSession.builder.appName(\"df_manage_date\").getOrCreate()\n",
    "df = spark.read.csv(\n",
    "    \"file:///home/jovyan/work/sample/date_parsing.csv\", header=True, inferSchema=True)\n",
    "\n",
    "# # show year\n",
    "df.select(f.year('date')).show()\n",
    "\n",
    "# # show month\n",
    "df.select(f.month('date')).show()"
   ]
  },
  {
   "cell_type": "code",
   "execution_count": 15,
   "id": "8f5db0f7-f365-439b-8b02-c8c4e1d60ccf",
   "metadata": {},
   "outputs": [
    {
     "name": "stdout",
     "output_type": "stream",
     "text": [
      "+---+\n",
      "|day|\n",
      "+---+\n",
      "| 27|\n",
      "| 29|\n",
      "| 22|\n",
      "|  6|\n",
      "| 21|\n",
      "| 23|\n",
      "| 23|\n",
      "| 31|\n",
      "| 29|\n",
      "| 30|\n",
      "|  4|\n",
      "| 22|\n",
      "| 23|\n",
      "|  4|\n",
      "| 26|\n",
      "| 23|\n",
      "| 27|\n",
      "| 20|\n",
      "|  5|\n",
      "| 18|\n",
      "+---+\n",
      "only showing top 20 rows\n",
      "\n",
      "+---+\n",
      "|day|\n",
      "+---+\n",
      "| 27|\n",
      "|363|\n",
      "| 22|\n",
      "|  6|\n",
      "|111|\n",
      "|296|\n",
      "|357|\n",
      "|151|\n",
      "|363|\n",
      "|364|\n",
      "|124|\n",
      "|173|\n",
      "|113|\n",
      "|216|\n",
      "| 26|\n",
      "|266|\n",
      "|147|\n",
      "|263|\n",
      "|186|\n",
      "|199|\n",
      "+---+\n",
      "only showing top 20 rows\n",
      "\n",
      "+----+--------+\n",
      "|year|     avg|\n",
      "+----+--------+\n",
      "|2022|2,540.67|\n",
      "|2021|2,195.68|\n",
      "+----+--------+\n",
      "\n"
     ]
    }
   ],
   "source": [
    "# # show day\n",
    "df.select(f.dayofmonth('date').alias('day')).show()\n",
    "df.select(f.dayofyear('date').alias('day')).show()\n",
    "\n",
    "df = df.withColumn(\"year\", f.year('date')).groupBy(\"year\").mean(\"number\").withColumnRenamed(\"avg(number)\", \"avg\")\n",
    "# df.show()\n",
    "df.select(\"year\", f.format_number(\"avg\", 2).alias(\"avg\")).show()"
   ]
  },
  {
   "cell_type": "code",
   "execution_count": null,
   "id": "d10160b0-c8fe-4390-b9c3-c06e189756e6",
   "metadata": {},
   "outputs": [],
   "source": []
  }
 ],
 "metadata": {
  "kernelspec": {
   "display_name": "Python 3 (ipykernel)",
   "language": "python",
   "name": "python3"
  },
  "language_info": {
   "codemirror_mode": {
    "name": "ipython",
    "version": 3
   },
   "file_extension": ".py",
   "mimetype": "text/x-python",
   "name": "python",
   "nbconvert_exporter": "python",
   "pygments_lexer": "ipython3",
   "version": "3.11.6"
  }
 },
 "nbformat": 4,
 "nbformat_minor": 5
}

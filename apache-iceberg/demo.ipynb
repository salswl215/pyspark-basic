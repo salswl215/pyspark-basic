{
 "cells": [
  {
   "cell_type": "code",
   "execution_count": 1,
   "id": "2e02bbb0-128b-4d62-a09b-0931b5721744",
   "metadata": {},
   "outputs": [
    {
     "name": "stderr",
     "output_type": "stream",
     "text": [
      "25/01/13 03:16:17 WARN SparkSession: Using an existing Spark session; only runtime SQL configurations will take effect.\n"
     ]
    },
    {
     "data": {
      "text/html": [
       "\n",
       "            <div>\n",
       "                <p><b>SparkSession - in-memory</b></p>\n",
       "                \n",
       "        <div>\n",
       "            <p><b>SparkContext</b></p>\n",
       "\n",
       "            <p><a href=\"http://4535030ced91:4041\">Spark UI</a></p>\n",
       "\n",
       "            <dl>\n",
       "              <dt>Version</dt>\n",
       "                <dd><code>v3.5.1</code></dd>\n",
       "              <dt>Master</dt>\n",
       "                <dd><code>local[*]</code></dd>\n",
       "              <dt>AppName</dt>\n",
       "                <dd><code>PySparkShell</code></dd>\n",
       "            </dl>\n",
       "        </div>\n",
       "        \n",
       "            </div>\n",
       "        "
      ],
      "text/plain": [
       "<pyspark.sql.session.SparkSession at 0xffff87195940>"
      ]
     },
     "execution_count": 1,
     "metadata": {},
     "output_type": "execute_result"
    }
   ],
   "source": [
    "from pyspark.sql import SparkSession\n",
    "spark = SparkSession.builder.appName(\"Jupyter\").getOrCreate()\n",
    "\n",
    "spark"
   ]
  },
  {
   "cell_type": "code",
   "execution_count": 5,
   "id": "4572d724-4d99-4f94-ba09-3dc3a75d8659",
   "metadata": {},
   "outputs": [
    {
     "data": {
      "text/html": [
       "<table>\n",
       "    <thead>\n",
       "        <tr>\n",
       "        </tr>\n",
       "    </thead>\n",
       "    <tbody>\n",
       "    </tbody>\n",
       "</table>"
      ],
      "text/plain": [
       "++\n",
       "||\n",
       "++\n",
       "++"
      ]
     },
     "execution_count": 5,
     "metadata": {},
     "output_type": "execute_result"
    }
   ],
   "source": [
    "%%sql\n",
    "\n",
    "CREATE DATABASE IF NOT EXISTS playground"
   ]
  },
  {
   "cell_type": "code",
   "execution_count": 8,
   "id": "ce3c4288-df97-485e-b405-01018e334aca",
   "metadata": {},
   "outputs": [
    {
     "data": {
      "text/plain": [
       "DataFrame[]"
      ]
     },
     "execution_count": 8,
     "metadata": {},
     "output_type": "execute_result"
    }
   ],
   "source": [
    "spark.sql(\"\"\"\n",
    "CREATE TABLE IF NOT EXISTS playground.sample_table (\n",
    "    id BIGINT,\n",
    "    data STRING\n",
    ")\n",
    "USING iceberg\n",
    "\"\"\")"
   ]
  },
  {
   "cell_type": "code",
   "execution_count": 9,
   "id": "8d2c5dcf-81be-4ff7-ac73-f4037af83913",
   "metadata": {},
   "outputs": [
    {
     "name": "stderr",
     "output_type": "stream",
     "text": [
      "                                                                                \r"
     ]
    }
   ],
   "source": [
    "data = [\n",
    "    (1, \"Hello World\"),\n",
    "    (2, \"Apache Iceberg\"),\n",
    "    (3, \"PySpark Demo\")\n",
    "]\n",
    "\n",
    "df = spark.createDataFrame(data, [\"id\", \"data\"])\n",
    "\n",
    "# Append to Iceberg table\n",
    "df.writeTo(\"playground.sample_table\").append()"
   ]
  },
  {
   "cell_type": "code",
   "execution_count": 13,
   "id": "8d315ee0-4c77-400e-a456-298ae4dea78f",
   "metadata": {},
   "outputs": [
    {
     "name": "stdout",
     "output_type": "stream",
     "text": [
      "+---+--------------+\n",
      "| id|          data|\n",
      "+---+--------------+\n",
      "|  1|   Hello World|\n",
      "|  2|Apache Iceberg|\n",
      "|  3|  PySpark Demo|\n",
      "+---+--------------+\n",
      "\n"
     ]
    }
   ],
   "source": [
    "# Direct SQL Query\n",
    "spark.sql(\"SELECT * FROM playground.sample_table\").show()\n"
   ]
  },
  {
   "cell_type": "code",
   "execution_count": 11,
   "id": "ac3f23ea-3ac3-4f8a-9273-80c290ee5af7",
   "metadata": {},
   "outputs": [
    {
     "name": "stdout",
     "output_type": "stream",
     "text": [
      "+---+--------------+\n",
      "| id|          data|\n",
      "+---+--------------+\n",
      "|  1|   Hello World|\n",
      "|  2|Apache Iceberg|\n",
      "|  3|  PySpark Demo|\n",
      "+---+--------------+\n",
      "\n"
     ]
    }
   ],
   "source": [
    "# Dataframe api\n",
    "iceberg_df = spark.read.format(\"iceberg\").load(\"playground.sample_table\")\n",
    "iceberg_df.show()"
   ]
  },
  {
   "cell_type": "code",
   "execution_count": 14,
   "id": "bd056e2d-532d-4c91-87b7-6753e02e7871",
   "metadata": {},
   "outputs": [
    {
     "data": {
      "text/plain": [
       "DataFrame[]"
      ]
     },
     "execution_count": 14,
     "metadata": {},
     "output_type": "execute_result"
    }
   ],
   "source": [
    "spark.sql(\"ALTER TABLE playground.sample_table ADD COLUMN extra_info STRING\")"
   ]
  },
  {
   "cell_type": "code",
   "execution_count": 15,
   "id": "b11e9524-23a3-4789-9ef3-5ae0a9a13173",
   "metadata": {},
   "outputs": [],
   "source": [
    "data_new = [\n",
    "    (4, \"Another record\", \"This is extra info\"),\n",
    "    (5, \"Yet another record\", \"Additional details\")\n",
    "]\n",
    "df_new = spark.createDataFrame(data_new, [\"id\", \"data\", \"extra_info\"])\n",
    "df_new.writeTo(\"playground.sample_table\").append()"
   ]
  },
  {
   "cell_type": "code",
   "execution_count": 16,
   "id": "3631ff64-57df-4d15-87f0-f18280f275e0",
   "metadata": {},
   "outputs": [
    {
     "name": "stdout",
     "output_type": "stream",
     "text": [
      "+---+------------------+------------------+\n",
      "| id|              data|        extra_info|\n",
      "+---+------------------+------------------+\n",
      "|  4|    Another record|This is extra info|\n",
      "|  1|       Hello World|              NULL|\n",
      "|  5|Yet another record|Additional details|\n",
      "|  2|    Apache Iceberg|              NULL|\n",
      "|  3|      PySpark Demo|              NULL|\n",
      "+---+------------------+------------------+\n",
      "\n"
     ]
    }
   ],
   "source": [
    "spark.sql(\"SELECT * FROM playground.sample_table\").show()\n"
   ]
  },
  {
   "cell_type": "code",
   "execution_count": 17,
   "id": "d7489dae-9928-4ea0-b4fa-03ce21c00745",
   "metadata": {},
   "outputs": [
    {
     "data": {
      "text/html": [
       "<table>\n",
       "    <thead>\n",
       "        <tr>\n",
       "            <th>committed_at</th>\n",
       "            <th>snapshot_id</th>\n",
       "            <th>parent_id</th>\n",
       "            <th>operation</th>\n",
       "            <th>manifest_list</th>\n",
       "            <th>summary</th>\n",
       "        </tr>\n",
       "    </thead>\n",
       "    <tbody>\n",
       "        <tr>\n",
       "            <td>2025-01-13 03:22:55.035000</td>\n",
       "            <td>620328652709790722</td>\n",
       "            <td>None</td>\n",
       "            <td>append</td>\n",
       "            <td>s3://warehouse/playground/sample_table/metadata/snap-620328652709790722-1-5218b887-b4a8-4e53-b50f-bd52d78ce895.avro</td>\n",
       "            <td>{&#x27;spark.app.id&#x27;: &#x27;local-1736738107160&#x27;, &#x27;changed-partition-count&#x27;: &#x27;1&#x27;, &#x27;added-data-files&#x27;: &#x27;3&#x27;, &#x27;total-equality-deletes&#x27;: &#x27;0&#x27;, &#x27;added-records&#x27;: &#x27;3&#x27;, &#x27;total-position-deletes&#x27;: &#x27;0&#x27;, &#x27;added-files-size&#x27;: &#x27;2167&#x27;, &#x27;total-delete-files&#x27;: &#x27;0&#x27;, &#x27;total-files-size&#x27;: &#x27;2167&#x27;, &#x27;total-records&#x27;: &#x27;3&#x27;, &#x27;total-data-files&#x27;: &#x27;3&#x27;}</td>\n",
       "        </tr>\n",
       "        <tr>\n",
       "            <td>2025-01-13 03:25:08.072000</td>\n",
       "            <td>2157568210429522517</td>\n",
       "            <td>620328652709790722</td>\n",
       "            <td>append</td>\n",
       "            <td>s3://warehouse/playground/sample_table/metadata/snap-2157568210429522517-1-7e00d570-bdf1-420c-9f65-92808b323de5.avro</td>\n",
       "            <td>{&#x27;spark.app.id&#x27;: &#x27;local-1736738107160&#x27;, &#x27;changed-partition-count&#x27;: &#x27;1&#x27;, &#x27;added-data-files&#x27;: &#x27;2&#x27;, &#x27;total-equality-deletes&#x27;: &#x27;0&#x27;, &#x27;added-records&#x27;: &#x27;2&#x27;, &#x27;total-position-deletes&#x27;: &#x27;0&#x27;, &#x27;added-files-size&#x27;: &#x27;2200&#x27;, &#x27;total-delete-files&#x27;: &#x27;0&#x27;, &#x27;total-files-size&#x27;: &#x27;4367&#x27;, &#x27;total-records&#x27;: &#x27;5&#x27;, &#x27;total-data-files&#x27;: &#x27;5&#x27;}</td>\n",
       "        </tr>\n",
       "    </tbody>\n",
       "</table>"
      ],
      "text/plain": [
       "+----------------------------+---------------------+--------------------+-----------+----------------------------------------------------------------------------------------------------------------------+------------------------------------------------------------------------------------------------------------------------------------------------------------------------------------------------------------------------------------------------------------------------------------------------------------------------+\n",
       "|               committed_at |         snapshot_id |          parent_id | operation |                                                                                                        manifest_list |                                                                                                                                                                                                                                                                                                                summary |\n",
       "+----------------------------+---------------------+--------------------+-----------+----------------------------------------------------------------------------------------------------------------------+------------------------------------------------------------------------------------------------------------------------------------------------------------------------------------------------------------------------------------------------------------------------------------------------------------------------+\n",
       "| 2025-01-13 03:22:55.035000 |  620328652709790722 |               None |    append |  s3://warehouse/playground/sample_table/metadata/snap-620328652709790722-1-5218b887-b4a8-4e53-b50f-bd52d78ce895.avro | {'spark.app.id': 'local-1736738107160', 'changed-partition-count': '1', 'added-data-files': '3', 'total-equality-deletes': '0', 'added-records': '3', 'total-position-deletes': '0', 'added-files-size': '2167', 'total-delete-files': '0', 'total-files-size': '2167', 'total-records': '3', 'total-data-files': '3'} |\n",
       "| 2025-01-13 03:25:08.072000 | 2157568210429522517 | 620328652709790722 |    append | s3://warehouse/playground/sample_table/metadata/snap-2157568210429522517-1-7e00d570-bdf1-420c-9f65-92808b323de5.avro | {'spark.app.id': 'local-1736738107160', 'changed-partition-count': '1', 'added-data-files': '2', 'total-equality-deletes': '0', 'added-records': '2', 'total-position-deletes': '0', 'added-files-size': '2200', 'total-delete-files': '0', 'total-files-size': '4367', 'total-records': '5', 'total-data-files': '5'} |\n",
       "+----------------------------+---------------------+--------------------+-----------+----------------------------------------------------------------------------------------------------------------------+------------------------------------------------------------------------------------------------------------------------------------------------------------------------------------------------------------------------------------------------------------------------------------------------------------------------+"
      ]
     },
     "execution_count": 17,
     "metadata": {},
     "output_type": "execute_result"
    }
   ],
   "source": [
    "%%sql\n",
    "SELECT * \n",
    "FROM playground.sample_table.snapshots"
   ]
  },
  {
   "cell_type": "code",
   "execution_count": 18,
   "id": "4a5dbf22-7ae2-4674-a2ed-c4ce9073acd2",
   "metadata": {},
   "outputs": [
    {
     "data": {
      "text/html": [
       "<table>\n",
       "    <thead>\n",
       "        <tr>\n",
       "            <th>made_current_at</th>\n",
       "            <th>snapshot_id</th>\n",
       "            <th>parent_id</th>\n",
       "            <th>is_current_ancestor</th>\n",
       "        </tr>\n",
       "    </thead>\n",
       "    <tbody>\n",
       "        <tr>\n",
       "            <td>2025-01-13 03:22:55.035000</td>\n",
       "            <td>620328652709790722</td>\n",
       "            <td>None</td>\n",
       "            <td>True</td>\n",
       "        </tr>\n",
       "        <tr>\n",
       "            <td>2025-01-13 03:25:08.072000</td>\n",
       "            <td>2157568210429522517</td>\n",
       "            <td>620328652709790722</td>\n",
       "            <td>True</td>\n",
       "        </tr>\n",
       "    </tbody>\n",
       "</table>"
      ],
      "text/plain": [
       "+----------------------------+---------------------+--------------------+---------------------+\n",
       "|            made_current_at |         snapshot_id |          parent_id | is_current_ancestor |\n",
       "+----------------------------+---------------------+--------------------+---------------------+\n",
       "| 2025-01-13 03:22:55.035000 |  620328652709790722 |               None |                True |\n",
       "| 2025-01-13 03:25:08.072000 | 2157568210429522517 | 620328652709790722 |                True |\n",
       "+----------------------------+---------------------+--------------------+---------------------+"
      ]
     },
     "execution_count": 18,
     "metadata": {},
     "output_type": "execute_result"
    }
   ],
   "source": [
    "%%sql\n",
    "SELECT * \n",
    "FROM playground.sample_table.history"
   ]
  },
  {
   "cell_type": "code",
   "execution_count": 21,
   "id": "531995fc-eea2-45b5-98fd-586c861c510a",
   "metadata": {},
   "outputs": [
    {
     "data": {
      "text/html": [
       "<table>\n",
       "    <thead>\n",
       "        <tr>\n",
       "            <th>previous_snapshot_id</th>\n",
       "            <th>current_snapshot_id</th>\n",
       "        </tr>\n",
       "    </thead>\n",
       "    <tbody>\n",
       "        <tr>\n",
       "            <td>2157568210429522517</td>\n",
       "            <td>620328652709790722</td>\n",
       "        </tr>\n",
       "    </tbody>\n",
       "</table>"
      ],
      "text/plain": [
       "+----------------------+---------------------+\n",
       "| previous_snapshot_id | current_snapshot_id |\n",
       "+----------------------+---------------------+\n",
       "|  2157568210429522517 |  620328652709790722 |\n",
       "+----------------------+---------------------+"
      ]
     },
     "execution_count": 21,
     "metadata": {},
     "output_type": "execute_result"
    }
   ],
   "source": [
    "%%sql\n",
    "CALL system.rollback_to_snapshot('playground.sample_table', 620328652709790722)"
   ]
  },
  {
   "cell_type": "code",
   "execution_count": 22,
   "id": "e81fe3fa-d944-4f7e-8e64-e17ad6f49769",
   "metadata": {},
   "outputs": [
    {
     "name": "stdout",
     "output_type": "stream",
     "text": [
      "+---+--------------+----------+\n",
      "| id|          data|extra_info|\n",
      "+---+--------------+----------+\n",
      "|  1|   Hello World|      NULL|\n",
      "|  2|Apache Iceberg|      NULL|\n",
      "|  3|  PySpark Demo|      NULL|\n",
      "+---+--------------+----------+\n",
      "\n"
     ]
    }
   ],
   "source": [
    "spark.sql(\"SELECT * FROM playground.sample_table\").show()\n"
   ]
  },
  {
   "cell_type": "code",
   "execution_count": null,
   "id": "8449bb76-c579-409f-bd29-dff024200dd0",
   "metadata": {},
   "outputs": [],
   "source": []
  }
 ],
 "metadata": {
  "kernelspec": {
   "display_name": "Python 3 (ipykernel)",
   "language": "python",
   "name": "python3"
  },
  "language_info": {
   "codemirror_mode": {
    "name": "ipython",
    "version": 3
   },
   "file_extension": ".py",
   "mimetype": "text/x-python",
   "name": "python",
   "nbconvert_exporter": "python",
   "pygments_lexer": "ipython3",
   "version": "3.9.18"
  }
 },
 "nbformat": 4,
 "nbformat_minor": 5
}
